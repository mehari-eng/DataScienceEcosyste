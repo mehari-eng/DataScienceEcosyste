{
 "cells": [
  {
   "cell_type": "markdown",
   "id": "427eeae3-e861-4870-a113-506b7cf99234",
   "metadata": {},
   "source": [
    "# Data Science Tools and Ecosyste using H1 style Heading."
   ]
  },
  {
   "cell_type": "markdown",
   "id": "03875bf8-98b2-491f-9383-a952b3a35c23",
   "metadata": {},
   "source": [
    "In this notebook, Data Science Tools and Ecosyste are summarized."
   ]
  },
  {
   "cell_type": "markdown",
   "id": "756f3cfe-606d-4442-9613-33e70811fb89",
   "metadata": {},
   "source": [
    "Some of the popular languages that Data Scientists use are:\n",
    "<ol>\n",
    "    <li>Python </li> \n",
    "    <li>R</li>\n",
    "    <li>SQL</li>\n",
    "</ol>\n"
   ]
  },
  {
   "cell_type": "markdown",
   "id": "9f170a71-4167-4fb1-9620-c562a0925230",
   "metadata": {},
   "source": [
    "Some of the commonly used libraries used by Data Scientists include:\n",
    "<li>NumPy</li>\n",
    "<li>Matplotlib</li>\n",
    "<li>Pandas</li>"
   ]
  },
  {
   "cell_type": "markdown",
   "id": "5520bc7b-c21c-48f4-a8ec-93beaf50cef6",
   "metadata": {},
   "source": [
    "\n",
    "|Data Science Tools|\n",
    "|--------|\n",
    "|Jupyter Notebook|\n",
    "|RStudio|\n",
    "|VS Code|"
   ]
  },
  {
   "cell_type": "markdown",
   "id": "4f065fce-b2e9-4dbc-b946-f91775c19790",
   "metadata": {},
   "source": [
    "### Below are a few examples of evaluating aritimetic expressions in Python.\n",
    "\n",
    "\\(5 + 3 = 8\\)\n",
    "\n",
    "\\(10 - 2 = 8\\)\n",
    "\n",
    "\\(4 \\* 7 = 28\\)\n",
    "\n"
   ]
  },
  {
   "cell_type": "code",
   "execution_count": 6,
   "id": "c910dd97-8484-406c-9dfd-35816d360c79",
   "metadata": {},
   "outputs": [
    {
     "data": {
      "text/plain": [
       "17"
      ]
     },
     "execution_count": 6,
     "metadata": {},
     "output_type": "execute_result"
    }
   ],
   "source": [
    "# this is a simmple arithmmetic expression to \n",
    "(3*4)+5"
   ]
  },
  {
   "cell_type": "code",
   "execution_count": 8,
   "id": "2e5c8736-0bc0-4646-abf1-0872de653951",
   "metadata": {},
   "outputs": [
    {
     "data": {
      "text/plain": [
       "3.3333333333333335"
      ]
     },
     "execution_count": 8,
     "metadata": {},
     "output_type": "execute_result"
    }
   ],
   "source": [
    "# This will convert 200 minutes to hours by diving by 60\n",
    "200/60"
   ]
  },
  {
   "cell_type": "markdown",
   "id": "46bb010c-347d-4093-b51a-9da547a55e24",
   "metadata": {},
   "source": [
    "**Objectives**\n",
    "<li>Python</li>\n",
    "<li>R</li>\n",
    "<li>SQL</li>\n",
    "\n"
   ]
  },
  {
   "cell_type": "markdown",
   "id": "62061920-234b-4811-961c-e8c9036d88ca",
   "metadata": {},
   "source": [
    "## Mehari Yohannes"
   ]
  },
  {
   "cell_type": "code",
   "execution_count": null,
   "id": "d45a7e86-7b0a-4d8f-837b-ee7acfa678ee",
   "metadata": {},
   "outputs": [],
   "source": []
  }
 ],
 "metadata": {
  "kernelspec": {
   "display_name": "Python 3 (ipykernel)",
   "language": "python",
   "name": "python3"
  },
  "language_info": {
   "codemirror_mode": {
    "name": "ipython",
    "version": 3
   },
   "file_extension": ".py",
   "mimetype": "text/x-python",
   "name": "python",
   "nbconvert_exporter": "python",
   "pygments_lexer": "ipython3",
   "version": "3.12.5"
  }
 },
 "nbformat": 4,
 "nbformat_minor": 5
}
